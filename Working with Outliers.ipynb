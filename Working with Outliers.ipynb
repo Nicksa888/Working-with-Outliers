{
 "cells": [
  {
   "cell_type": "markdown",
   "id": "b7a27751",
   "metadata": {},
   "source": [
    "# Working with Outliers"
   ]
  },
  {
   "cell_type": "markdown",
   "id": "44f2c185",
   "metadata": {},
   "source": [
    "In this repository, we will discuss how to identify and remove outliers from a dataset, a\n",
    "process called trimming, and how to replace outliers by maximum or minimum values. We\n",
    "will also discuss how to use the mean and standard deviation for normally distributed\n",
    "variables or the inter-quartile range for skewed features or using percentiles, in a process \n",
    "commonly known as winsorization."
   ]
  },
  {
   "cell_type": "code",
   "execution_count": 101,
   "id": "9619b58d",
   "metadata": {},
   "outputs": [],
   "source": [
    "import pandas as pd\n",
    "import numpy as np\n",
    "import matplotlib.pyplot as plt\n",
    "import seaborn as sns\n",
    "from sklearn.model_selection import train_test_split"
   ]
  },
  {
   "cell_type": "code",
   "execution_count": 2,
   "id": "0e803c31",
   "metadata": {},
   "outputs": [
    {
     "data": {
      "text/html": [
       "<div>\n",
       "<style scoped>\n",
       "    .dataframe tbody tr th:only-of-type {\n",
       "        vertical-align: middle;\n",
       "    }\n",
       "\n",
       "    .dataframe tbody tr th {\n",
       "        vertical-align: top;\n",
       "    }\n",
       "\n",
       "    .dataframe thead th {\n",
       "        text-align: right;\n",
       "    }\n",
       "</style>\n",
       "<table border=\"1\" class=\"dataframe\">\n",
       "  <thead>\n",
       "    <tr style=\"text-align: right;\">\n",
       "      <th></th>\n",
       "      <th>CRIM</th>\n",
       "      <th>ZN</th>\n",
       "      <th>INDUS</th>\n",
       "      <th>CHAS</th>\n",
       "      <th>NOX</th>\n",
       "      <th>RM</th>\n",
       "      <th>AGE</th>\n",
       "      <th>DIS</th>\n",
       "      <th>RAD</th>\n",
       "      <th>TAX</th>\n",
       "      <th>PTRATIO</th>\n",
       "      <th>B</th>\n",
       "      <th>LSTAT</th>\n",
       "      <th>MEDV</th>\n",
       "    </tr>\n",
       "  </thead>\n",
       "  <tbody>\n",
       "    <tr>\n",
       "      <th>0</th>\n",
       "      <td>0.00632</td>\n",
       "      <td>18.0</td>\n",
       "      <td>2.31</td>\n",
       "      <td>0</td>\n",
       "      <td>0.538</td>\n",
       "      <td>6.575</td>\n",
       "      <td>65.2</td>\n",
       "      <td>4.0900</td>\n",
       "      <td>1</td>\n",
       "      <td>296</td>\n",
       "      <td>15.3</td>\n",
       "      <td>396.90</td>\n",
       "      <td>4.98</td>\n",
       "      <td>24.0</td>\n",
       "    </tr>\n",
       "    <tr>\n",
       "      <th>1</th>\n",
       "      <td>0.02731</td>\n",
       "      <td>0.0</td>\n",
       "      <td>7.07</td>\n",
       "      <td>0</td>\n",
       "      <td>0.469</td>\n",
       "      <td>6.421</td>\n",
       "      <td>78.9</td>\n",
       "      <td>4.9671</td>\n",
       "      <td>2</td>\n",
       "      <td>242</td>\n",
       "      <td>17.8</td>\n",
       "      <td>396.90</td>\n",
       "      <td>9.14</td>\n",
       "      <td>21.6</td>\n",
       "    </tr>\n",
       "    <tr>\n",
       "      <th>2</th>\n",
       "      <td>0.02729</td>\n",
       "      <td>0.0</td>\n",
       "      <td>7.07</td>\n",
       "      <td>0</td>\n",
       "      <td>0.469</td>\n",
       "      <td>7.185</td>\n",
       "      <td>61.1</td>\n",
       "      <td>4.9671</td>\n",
       "      <td>2</td>\n",
       "      <td>242</td>\n",
       "      <td>17.8</td>\n",
       "      <td>392.83</td>\n",
       "      <td>4.03</td>\n",
       "      <td>34.7</td>\n",
       "    </tr>\n",
       "    <tr>\n",
       "      <th>3</th>\n",
       "      <td>0.03237</td>\n",
       "      <td>0.0</td>\n",
       "      <td>2.18</td>\n",
       "      <td>0</td>\n",
       "      <td>0.458</td>\n",
       "      <td>6.998</td>\n",
       "      <td>45.8</td>\n",
       "      <td>6.0622</td>\n",
       "      <td>3</td>\n",
       "      <td>222</td>\n",
       "      <td>18.7</td>\n",
       "      <td>394.63</td>\n",
       "      <td>2.94</td>\n",
       "      <td>33.4</td>\n",
       "    </tr>\n",
       "    <tr>\n",
       "      <th>4</th>\n",
       "      <td>0.06905</td>\n",
       "      <td>0.0</td>\n",
       "      <td>2.18</td>\n",
       "      <td>0</td>\n",
       "      <td>0.458</td>\n",
       "      <td>7.147</td>\n",
       "      <td>54.2</td>\n",
       "      <td>6.0622</td>\n",
       "      <td>3</td>\n",
       "      <td>222</td>\n",
       "      <td>18.7</td>\n",
       "      <td>396.90</td>\n",
       "      <td>5.33</td>\n",
       "      <td>36.2</td>\n",
       "    </tr>\n",
       "  </tbody>\n",
       "</table>\n",
       "</div>"
      ],
      "text/plain": [
       "      CRIM    ZN  INDUS  CHAS    NOX     RM   AGE     DIS  RAD  TAX  PTRATIO  \\\n",
       "0  0.00632  18.0   2.31     0  0.538  6.575  65.2  4.0900    1  296     15.3   \n",
       "1  0.02731   0.0   7.07     0  0.469  6.421  78.9  4.9671    2  242     17.8   \n",
       "2  0.02729   0.0   7.07     0  0.469  7.185  61.1  4.9671    2  242     17.8   \n",
       "3  0.03237   0.0   2.18     0  0.458  6.998  45.8  6.0622    3  222     18.7   \n",
       "4  0.06905   0.0   2.18     0  0.458  7.147  54.2  6.0622    3  222     18.7   \n",
       "\n",
       "        B  LSTAT  MEDV  \n",
       "0  396.90   4.98  24.0  \n",
       "1  396.90   9.14  21.6  \n",
       "2  392.83   4.03  34.7  \n",
       "3  394.63   2.94  33.4  \n",
       "4  396.90   5.33  36.2  "
      ]
     },
     "execution_count": 2,
     "metadata": {},
     "output_type": "execute_result"
    }
   ],
   "source": [
    "# Load Boston Data Set\n",
    "Boston = pd.read_csv('C:/Python_Data_Sets/Boston.csv')\n",
    "Boston.head()"
   ]
  },
  {
   "cell_type": "code",
   "execution_count": 27,
   "id": "5f17acdb",
   "metadata": {},
   "outputs": [
    {
     "data": {
      "text/plain": [
       "<bound method DataFrame.info of         CRIM    ZN  INDUS  CHAS    NOX     RM   AGE     DIS  RAD  TAX  \\\n",
       "0    0.00632  18.0   2.31     0  0.538  6.575  65.2  4.0900    1  296   \n",
       "1    0.02731   0.0   7.07     0  0.469  6.421  78.9  4.9671    2  242   \n",
       "2    0.02729   0.0   7.07     0  0.469  7.185  61.1  4.9671    2  242   \n",
       "3    0.03237   0.0   2.18     0  0.458  6.998  45.8  6.0622    3  222   \n",
       "4    0.06905   0.0   2.18     0  0.458  7.147  54.2  6.0622    3  222   \n",
       "..       ...   ...    ...   ...    ...    ...   ...     ...  ...  ...   \n",
       "501  0.06263   0.0  11.93     0  0.573  6.593  69.1  2.4786    1  273   \n",
       "502  0.04527   0.0  11.93     0  0.573  6.120  76.7  2.2875    1  273   \n",
       "503  0.06076   0.0  11.93     0  0.573  6.976  91.0  2.1675    1  273   \n",
       "504  0.10959   0.0  11.93     0  0.573  6.794  89.3  2.3889    1  273   \n",
       "505  0.04741   0.0  11.93     0  0.573  6.030  80.8  2.5050    1  273   \n",
       "\n",
       "     PTRATIO       B  LSTAT  MEDV  CRIM_man  CRIM_log  \n",
       "0       15.3  396.90   4.98  24.0   1.00632  0.006300  \n",
       "1       17.8  396.90   9.14  21.6   1.02731  0.026944  \n",
       "2       17.8  392.83   4.03  34.7   1.02729  0.026924  \n",
       "3       18.7  394.63   2.94  33.4   1.03237  0.031857  \n",
       "4       18.7  396.90   5.33  36.2   1.06905  0.066770  \n",
       "..       ...     ...    ...   ...       ...       ...  \n",
       "501     21.0  391.99   9.67  22.4   1.06263  0.060747  \n",
       "502     21.0  396.90   9.08  20.6   1.04527  0.044275  \n",
       "503     21.0  396.90   5.64  23.9   1.06076  0.058986  \n",
       "504     21.0  393.45   6.48  22.0   1.10959  0.103991  \n",
       "505     21.0  396.90   7.88  11.9   1.04741  0.046320  \n",
       "\n",
       "[506 rows x 16 columns]>"
      ]
     },
     "execution_count": 27,
     "metadata": {},
     "output_type": "execute_result"
    }
   ],
   "source": [
    "Boston.info"
   ]
  },
  {
   "cell_type": "markdown",
   "id": "6bae3786",
   "metadata": {},
   "source": [
    "Create a function that takes a dataframe, a variable name, and the factor to use in\n",
    "the IQR calculation and returns the IQR proximity rule boundaries:"
   ]
  },
  {
   "cell_type": "code",
   "execution_count": 12,
   "id": "13ffb0c8",
   "metadata": {},
   "outputs": [],
   "source": [
    "def find_boundaries(df, variable, distance):\n",
    " IQR = df[variable].quantile(0.75) - df[variable].quantile(0.25)\n",
    " lower_boundary = df[variable].quantile(0.25) - (IQR * distance)\n",
    " upper_boundary = df[variable].quantile(0.75) + (IQR * distance)\n",
    " return upper_boundary, lower_boundary"
   ]
  },
  {
   "cell_type": "markdown",
   "id": "58cad5a5",
   "metadata": {},
   "source": [
    "Let's make a boxplot of the RM variable to visualize outliers. The outliers are the asterisks sitting outside the whiskers, which delimit the inter-quartile range proximity rule boundaries:"
   ]
  },
  {
   "cell_type": "code",
   "execution_count": 9,
   "id": "2cbcf735",
   "metadata": {},
   "outputs": [
    {
     "data": {
      "text/plain": [
       "<AxesSubplot:xlabel='RM'>"
      ]
     },
     "execution_count": 9,
     "metadata": {},
     "output_type": "execute_result"
    },
    {
     "data": {
      "image/png": "[encoded data removed]",
      "text/plain": [
       "<Figure size 432x288 with 1 Axes>"
      ]
     },
     "metadata": {
      "needs_background": "light"
     },
     "output_type": "display_data"
    }
   ],
   "source": [
    "sns.boxplot(x = Boston['RM'])"
   ]
  },
  {
   "cell_type": "markdown",
   "id": "af4f864a",
   "metadata": {},
   "source": [
    " Let's use the function for the IQR calculation to determine the limits of the RM variable:"
   ]
  },
  {
   "cell_type": "code",
   "execution_count": 14,
   "id": "e685e822",
   "metadata": {},
   "outputs": [],
   "source": [
    "RM_upper_limit, RM_lower_limit = find_boundaries(Boston, 'RM', 1.5)"
   ]
  },
  {
   "cell_type": "markdown",
   "id": "ac411fa8",
   "metadata": {},
   "source": [
    "Let's print those limits beyond which we will consider a value an outlier:"
   ]
  },
  {
   "cell_type": "code",
   "execution_count": 15,
   "id": "af51d985",
   "metadata": {},
   "outputs": [
    {
     "data": {
      "text/plain": [
       "(7.730500000000001, 4.778499999999999)"
      ]
     },
     "execution_count": 15,
     "metadata": {},
     "output_type": "execute_result"
    }
   ],
   "source": [
    "RM_upper_limit, RM_lower_limit"
   ]
  },
  {
   "cell_type": "markdown",
   "id": "64e5db1c",
   "metadata": {},
   "source": [
    " Let's create a Boolean vector to flag the outliers in RM:"
   ]
  },
  {
   "cell_type": "code",
   "execution_count": 18,
   "id": "68021f04",
   "metadata": {},
   "outputs": [
    {
     "data": {
      "text/plain": [
       "array([False, False, False, False, False, False, False, False, False,\n",
       "       False, False, False, False, False, False, False, False, False,\n",
       "       False, False, False, False, False, False, False, False, False,\n",
       "       False, False, False, False, False, False, False, False, False,\n",
       "       False, False, False, False, False, False, False, False, False,\n",
       "       False, False, False, False, False, False, False, False, False,\n",
       "       False, False, False, False, False, False, False, False, False,\n",
       "       False, False, False, False, False, False, False, False, False,\n",
       "       False, False, False, False, False, False, False, False, False,\n",
       "       False, False, False, False, False, False, False, False, False,\n",
       "       False, False, False, False, False, False, False,  True,  True,\n",
       "       False, False, False, False, False, False, False, False, False,\n",
       "       False, False, False, False, False, False, False, False, False,\n",
       "       False, False, False, False, False, False, False, False, False,\n",
       "       False, False, False, False, False, False, False, False, False,\n",
       "       False, False, False, False, False, False, False, False, False,\n",
       "       False, False, False, False, False, False, False, False, False,\n",
       "       False, False, False, False, False, False, False, False, False,\n",
       "        True,  True, False, False,  True, False, False, False, False,\n",
       "       False, False, False, False, False, False, False, False, False,\n",
       "        True, False, False, False, False, False,  True, False, False,\n",
       "       False, False, False, False, False, False,  True, False, False,\n",
       "       False, False, False, False, False,  True,  True, False, False,\n",
       "       False, False, False, False, False, False, False, False, False,\n",
       "       False, False, False, False, False, False, False, False,  True,\n",
       "        True,  True, False, False, False, False, False,  True,  True,\n",
       "       False, False, False, False, False, False, False, False, False,\n",
       "       False, False, False, False, False, False, False, False, False,\n",
       "       False,  True, False, False, False,  True, False, False, False,\n",
       "       False,  True, False, False, False, False,  True, False, False,\n",
       "       False, False, False, False, False, False, False, False, False,\n",
       "       False,  True, False, False,  True, False, False, False, False,\n",
       "       False, False, False, False, False, False, False, False, False,\n",
       "       False, False, False, False, False, False, False, False, False,\n",
       "       False, False, False, False, False, False, False, False, False,\n",
       "       False, False, False, False, False, False, False, False, False,\n",
       "       False, False, False, False, False, False, False, False, False,\n",
       "       False, False, False, False, False, False, False, False, False,\n",
       "       False, False, False, False, False, False, False, False, False,\n",
       "       False, False, False, False, False, False, False, False, False,\n",
       "       False, False, False, False,  True,  True, False,  True, False,\n",
       "       False, False, False, False, False,  True, False, False, False,\n",
       "       False, False, False, False, False, False,  True, False,  True,\n",
       "       False, False, False, False, False, False, False, False, False,\n",
       "       False, False, False, False, False, False, False, False, False,\n",
       "       False,  True, False, False, False, False, False,  True, False,\n",
       "        True, False, False, False, False, False, False, False, False,\n",
       "       False, False, False, False, False, False, False, False, False,\n",
       "       False, False, False, False, False, False, False, False, False,\n",
       "       False, False, False, False, False, False, False, False, False,\n",
       "       False, False, False, False, False, False, False, False, False,\n",
       "       False, False, False, False, False, False, False, False, False,\n",
       "       False, False, False, False, False, False, False, False, False,\n",
       "       False, False, False, False, False, False, False, False, False,\n",
       "       False, False, False, False, False, False, False, False, False,\n",
       "       False, False, False, False, False, False, False, False, False,\n",
       "       False, False])"
      ]
     },
     "execution_count": 18,
     "metadata": {},
     "output_type": "execute_result"
    }
   ],
   "source": [
    "outliers_RM = np.where(Boston['RM'] > RM_upper_limit, True, np.where(Boston['RM'] < RM_lower_limit, True, False))\n",
    "outliers_RM"
   ]
  },
  {
   "cell_type": "markdown",
   "id": "f71f7f98",
   "metadata": {},
   "source": [
    "Finally, let's remove the outliers from the dataset:"
   ]
  },
  {
   "cell_type": "code",
   "execution_count": 26,
   "id": "311b87fa",
   "metadata": {},
   "outputs": [
    {
     "data": {
      "text/html": [
       "<div>\n",
       "<style scoped>\n",
       "    .dataframe tbody tr th:only-of-type {\n",
       "        vertical-align: middle;\n",
       "    }\n",
       "\n",
       "    .dataframe tbody tr th {\n",
       "        vertical-align: top;\n",
       "    }\n",
       "\n",
       "    .dataframe thead th {\n",
       "        text-align: right;\n",
       "    }\n",
       "</style>\n",
       "<table border=\"1\" class=\"dataframe\">\n",
       "  <thead>\n",
       "    <tr style=\"text-align: right;\">\n",
       "      <th></th>\n",
       "      <th>CRIM</th>\n",
       "      <th>ZN</th>\n",
       "      <th>INDUS</th>\n",
       "      <th>CHAS</th>\n",
       "      <th>NOX</th>\n",
       "      <th>RM</th>\n",
       "      <th>AGE</th>\n",
       "      <th>DIS</th>\n",
       "      <th>RAD</th>\n",
       "      <th>TAX</th>\n",
       "      <th>PTRATIO</th>\n",
       "      <th>B</th>\n",
       "      <th>LSTAT</th>\n",
       "      <th>MEDV</th>\n",
       "      <th>CRIM_man</th>\n",
       "      <th>CRIM_log</th>\n",
       "    </tr>\n",
       "  </thead>\n",
       "  <tbody>\n",
       "    <tr>\n",
       "      <th>0</th>\n",
       "      <td>0.00632</td>\n",
       "      <td>18.0</td>\n",
       "      <td>2.31</td>\n",
       "      <td>0</td>\n",
       "      <td>0.538</td>\n",
       "      <td>6.575</td>\n",
       "      <td>65.2</td>\n",
       "      <td>4.0900</td>\n",
       "      <td>1</td>\n",
       "      <td>296</td>\n",
       "      <td>15.3</td>\n",
       "      <td>396.90</td>\n",
       "      <td>4.98</td>\n",
       "      <td>24.0</td>\n",
       "      <td>1.00632</td>\n",
       "      <td>0.006300</td>\n",
       "    </tr>\n",
       "    <tr>\n",
       "      <th>1</th>\n",
       "      <td>0.02731</td>\n",
       "      <td>0.0</td>\n",
       "      <td>7.07</td>\n",
       "      <td>0</td>\n",
       "      <td>0.469</td>\n",
       "      <td>6.421</td>\n",
       "      <td>78.9</td>\n",
       "      <td>4.9671</td>\n",
       "      <td>2</td>\n",
       "      <td>242</td>\n",
       "      <td>17.8</td>\n",
       "      <td>396.90</td>\n",
       "      <td>9.14</td>\n",
       "      <td>21.6</td>\n",
       "      <td>1.02731</td>\n",
       "      <td>0.026944</td>\n",
       "    </tr>\n",
       "    <tr>\n",
       "      <th>2</th>\n",
       "      <td>0.02729</td>\n",
       "      <td>0.0</td>\n",
       "      <td>7.07</td>\n",
       "      <td>0</td>\n",
       "      <td>0.469</td>\n",
       "      <td>7.185</td>\n",
       "      <td>61.1</td>\n",
       "      <td>4.9671</td>\n",
       "      <td>2</td>\n",
       "      <td>242</td>\n",
       "      <td>17.8</td>\n",
       "      <td>392.83</td>\n",
       "      <td>4.03</td>\n",
       "      <td>34.7</td>\n",
       "      <td>1.02729</td>\n",
       "      <td>0.026924</td>\n",
       "    </tr>\n",
       "    <tr>\n",
       "      <th>3</th>\n",
       "      <td>0.03237</td>\n",
       "      <td>0.0</td>\n",
       "      <td>2.18</td>\n",
       "      <td>0</td>\n",
       "      <td>0.458</td>\n",
       "      <td>6.998</td>\n",
       "      <td>45.8</td>\n",
       "      <td>6.0622</td>\n",
       "      <td>3</td>\n",
       "      <td>222</td>\n",
       "      <td>18.7</td>\n",
       "      <td>394.63</td>\n",
       "      <td>2.94</td>\n",
       "      <td>33.4</td>\n",
       "      <td>1.03237</td>\n",
       "      <td>0.031857</td>\n",
       "    </tr>\n",
       "    <tr>\n",
       "      <th>4</th>\n",
       "      <td>0.06905</td>\n",
       "      <td>0.0</td>\n",
       "      <td>2.18</td>\n",
       "      <td>0</td>\n",
       "      <td>0.458</td>\n",
       "      <td>7.147</td>\n",
       "      <td>54.2</td>\n",
       "      <td>6.0622</td>\n",
       "      <td>3</td>\n",
       "      <td>222</td>\n",
       "      <td>18.7</td>\n",
       "      <td>396.90</td>\n",
       "      <td>5.33</td>\n",
       "      <td>36.2</td>\n",
       "      <td>1.06905</td>\n",
       "      <td>0.066770</td>\n",
       "    </tr>\n",
       "    <tr>\n",
       "      <th>...</th>\n",
       "      <td>...</td>\n",
       "      <td>...</td>\n",
       "      <td>...</td>\n",
       "      <td>...</td>\n",
       "      <td>...</td>\n",
       "      <td>...</td>\n",
       "      <td>...</td>\n",
       "      <td>...</td>\n",
       "      <td>...</td>\n",
       "      <td>...</td>\n",
       "      <td>...</td>\n",
       "      <td>...</td>\n",
       "      <td>...</td>\n",
       "      <td>...</td>\n",
       "      <td>...</td>\n",
       "      <td>...</td>\n",
       "    </tr>\n",
       "    <tr>\n",
       "      <th>501</th>\n",
       "      <td>0.06263</td>\n",
       "      <td>0.0</td>\n",
       "      <td>11.93</td>\n",
       "      <td>0</td>\n",
       "      <td>0.573</td>\n",
       "      <td>6.593</td>\n",
       "      <td>69.1</td>\n",
       "      <td>2.4786</td>\n",
       "      <td>1</td>\n",
       "      <td>273</td>\n",
       "      <td>21.0</td>\n",
       "      <td>391.99</td>\n",
       "      <td>9.67</td>\n",
       "      <td>22.4</td>\n",
       "      <td>1.06263</td>\n",
       "      <td>0.060747</td>\n",
       "    </tr>\n",
       "    <tr>\n",
       "      <th>502</th>\n",
       "      <td>0.04527</td>\n",
       "      <td>0.0</td>\n",
       "      <td>11.93</td>\n",
       "      <td>0</td>\n",
       "      <td>0.573</td>\n",
       "      <td>6.120</td>\n",
       "      <td>76.7</td>\n",
       "      <td>2.2875</td>\n",
       "      <td>1</td>\n",
       "      <td>273</td>\n",
       "      <td>21.0</td>\n",
       "      <td>396.90</td>\n",
       "      <td>9.08</td>\n",
       "      <td>20.6</td>\n",
       "      <td>1.04527</td>\n",
       "      <td>0.044275</td>\n",
       "    </tr>\n",
       "    <tr>\n",
       "      <th>503</th>\n",
       "      <td>0.06076</td>\n",
       "      <td>0.0</td>\n",
       "      <td>11.93</td>\n",
       "      <td>0</td>\n",
       "      <td>0.573</td>\n",
       "      <td>6.976</td>\n",
       "      <td>91.0</td>\n",
       "      <td>2.1675</td>\n",
       "      <td>1</td>\n",
       "      <td>273</td>\n",
       "      <td>21.0</td>\n",
       "      <td>396.90</td>\n",
       "      <td>5.64</td>\n",
       "      <td>23.9</td>\n",
       "      <td>1.06076</td>\n",
       "      <td>0.058986</td>\n",
       "    </tr>\n",
       "    <tr>\n",
       "      <th>504</th>\n",
       "      <td>0.10959</td>\n",
       "      <td>0.0</td>\n",
       "      <td>11.93</td>\n",
       "      <td>0</td>\n",
       "      <td>0.573</td>\n",
       "      <td>6.794</td>\n",
       "      <td>89.3</td>\n",
       "      <td>2.3889</td>\n",
       "      <td>1</td>\n",
       "      <td>273</td>\n",
       "      <td>21.0</td>\n",
       "      <td>393.45</td>\n",
       "      <td>6.48</td>\n",
       "      <td>22.0</td>\n",
       "      <td>1.10959</td>\n",
       "      <td>0.103991</td>\n",
       "    </tr>\n",
       "    <tr>\n",
       "      <th>505</th>\n",
       "      <td>0.04741</td>\n",
       "      <td>0.0</td>\n",
       "      <td>11.93</td>\n",
       "      <td>0</td>\n",
       "      <td>0.573</td>\n",
       "      <td>6.030</td>\n",
       "      <td>80.8</td>\n",
       "      <td>2.5050</td>\n",
       "      <td>1</td>\n",
       "      <td>273</td>\n",
       "      <td>21.0</td>\n",
       "      <td>396.90</td>\n",
       "      <td>7.88</td>\n",
       "      <td>11.9</td>\n",
       "      <td>1.04741</td>\n",
       "      <td>0.046320</td>\n",
       "    </tr>\n",
       "  </tbody>\n",
       "</table>\n",
       "<p>476 rows × 16 columns</p>\n",
       "</div>"
      ],
      "text/plain": [
       "        CRIM    ZN  INDUS  CHAS    NOX     RM   AGE     DIS  RAD  TAX  \\\n",
       "0    0.00632  18.0   2.31     0  0.538  6.575  65.2  4.0900    1  296   \n",
       "1    0.02731   0.0   7.07     0  0.469  6.421  78.9  4.9671    2  242   \n",
       "2    0.02729   0.0   7.07     0  0.469  7.185  61.1  4.9671    2  242   \n",
       "3    0.03237   0.0   2.18     0  0.458  6.998  45.8  6.0622    3  222   \n",
       "4    0.06905   0.0   2.18     0  0.458  7.147  54.2  6.0622    3  222   \n",
       "..       ...   ...    ...   ...    ...    ...   ...     ...  ...  ...   \n",
       "501  0.06263   0.0  11.93     0  0.573  6.593  69.1  2.4786    1  273   \n",
       "502  0.04527   0.0  11.93     0  0.573  6.120  76.7  2.2875    1  273   \n",
       "503  0.06076   0.0  11.93     0  0.573  6.976  91.0  2.1675    1  273   \n",
       "504  0.10959   0.0  11.93     0  0.573  6.794  89.3  2.3889    1  273   \n",
       "505  0.04741   0.0  11.93     0  0.573  6.030  80.8  2.5050    1  273   \n",
       "\n",
       "     PTRATIO       B  LSTAT  MEDV  CRIM_man  CRIM_log  \n",
       "0       15.3  396.90   4.98  24.0   1.00632  0.006300  \n",
       "1       17.8  396.90   9.14  21.6   1.02731  0.026944  \n",
       "2       17.8  392.83   4.03  34.7   1.02729  0.026924  \n",
       "3       18.7  394.63   2.94  33.4   1.03237  0.031857  \n",
       "4       18.7  396.90   5.33  36.2   1.06905  0.066770  \n",
       "..       ...     ...    ...   ...       ...       ...  \n",
       "501     21.0  391.99   9.67  22.4   1.06263  0.060747  \n",
       "502     21.0  396.90   9.08  20.6   1.04527  0.044275  \n",
       "503     21.0  396.90   5.64  23.9   1.06076  0.058986  \n",
       "504     21.0  393.45   6.48  22.0   1.10959  0.103991  \n",
       "505     21.0  396.90   7.88  11.9   1.04741  0.046320  \n",
       "\n",
       "[476 rows x 16 columns]"
      ]
     },
     "execution_count": 26,
     "metadata": {},
     "output_type": "execute_result"
    }
   ],
   "source": [
    "boston_trimmed = Boston.loc[~(outliers_RM)]\n",
    "boston_trimmed"
   ]
  },
  {
   "cell_type": "markdown",
   "id": "7f7967d3",
   "metadata": {},
   "source": [
    "Visualize the distribution of the trimmed\n",
    "variable and see whether there are outliers remaining. If there are, you can\n",
    "adjust the boundaries and trim the data again, or try a different way of\n",
    "finding the boundaries. As evident, some outliers remain"
   ]
  },
  {
   "cell_type": "code",
   "execution_count": 28,
   "id": "6b689da0",
   "metadata": {},
   "outputs": [
    {
     "data": {
      "text/plain": [
       "<AxesSubplot:xlabel='RM'>"
      ]
     },
     "execution_count": 28,
     "metadata": {},
     "output_type": "execute_result"
    },
    {
     "data": {
      "image/png": "[encoded data removed]",
      "text/plain": [
       "<Figure size 432x288 with 1 Axes>"
      ]
     },
     "metadata": {
      "needs_background": "light"
     },
     "output_type": "display_data"
    }
   ],
   "source": [
    "sns.boxplot(x = boston_trimmed['RM'])"
   ]
  },
  {
   "cell_type": "markdown",
   "id": "ad9dd9a2",
   "metadata": {},
   "source": [
    "## Find the outlier boundaries using the mean and standard deviation"
   ]
  },
  {
   "cell_type": "code",
   "execution_count": 37,
   "id": "f3d2a6fb",
   "metadata": {},
   "outputs": [],
   "source": [
    "def find_boundaries(df, variable, distance):\n",
    " lower_boundary = df[variable].mean() - (df[variable].std() * distance)\n",
    " upper_boundary = df[variable].mean() + (df[variable].std() * distance)\n",
    " return upper_boundary, lower_boundary"
   ]
  },
  {
   "cell_type": "markdown",
   "id": "01359f89",
   "metadata": {},
   "source": [
    "Calculate the boundaries for RM:"
   ]
  },
  {
   "cell_type": "code",
   "execution_count": 34,
   "id": "74933dca",
   "metadata": {},
   "outputs": [],
   "source": [
    "RM_upper_limit, RM_lower_limit = find_boundaries(Boston, 'RM', 3)"
   ]
  },
  {
   "cell_type": "markdown",
   "id": "80622756",
   "metadata": {},
   "source": [
    "Let's create a Boolean vector to flag the outliers in RM:"
   ]
  },
  {
   "cell_type": "code",
   "execution_count": 40,
   "id": "21c24367",
   "metadata": {},
   "outputs": [
    {
     "data": {
      "text/plain": [
       "array([False, False, False, False, False, False, False, False, False,\n",
       "       False, False, False, False, False, False, False, False, False,\n",
       "       False, False, False, False, False, False, False, False, False,\n",
       "       False, False, False, False, False, False, False, False, False,\n",
       "       False, False, False, False, False, False, False, False, False,\n",
       "       False, False, False, False, False, False, False, False, False,\n",
       "       False, False, False, False, False, False, False, False, False,\n",
       "       False, False, False, False, False, False, False, False, False,\n",
       "       False, False, False, False, False, False, False, False, False,\n",
       "       False, False, False, False, False, False, False, False, False,\n",
       "       False, False, False, False, False, False, False, False, False,\n",
       "       False, False, False, False, False, False, False, False, False,\n",
       "       False, False, False, False, False, False, False, False, False,\n",
       "       False, False, False, False, False, False, False, False, False,\n",
       "       False, False, False, False, False, False, False, False, False,\n",
       "       False, False, False, False, False, False, False, False, False,\n",
       "       False, False, False, False, False, False, False, False, False,\n",
       "       False, False, False, False, False, False, False, False, False,\n",
       "       False, False, False, False, False, False, False, False, False,\n",
       "       False, False, False, False, False, False, False, False, False,\n",
       "       False, False, False, False, False, False, False, False, False,\n",
       "       False, False, False, False, False, False, False, False, False,\n",
       "       False, False, False, False, False, False, False, False, False,\n",
       "       False, False, False, False, False, False, False, False, False,\n",
       "       False, False, False, False, False, False, False, False, False,\n",
       "        True, False, False, False, False, False, False, False, False,\n",
       "       False, False, False, False, False, False, False, False, False,\n",
       "       False, False, False, False, False, False, False, False, False,\n",
       "       False, False, False, False, False,  True, False, False, False,\n",
       "       False,  True, False, False, False, False, False, False, False,\n",
       "       False, False, False, False, False, False, False, False, False,\n",
       "       False, False, False, False, False, False, False, False, False,\n",
       "       False, False, False, False, False, False, False, False, False,\n",
       "       False, False, False, False, False, False, False, False, False,\n",
       "       False, False, False, False, False, False, False, False, False,\n",
       "       False, False, False, False, False, False, False, False, False,\n",
       "       False, False, False, False, False, False, False, False, False,\n",
       "       False, False, False, False, False, False, False, False, False,\n",
       "       False, False, False, False, False, False, False, False, False,\n",
       "       False, False, False, False, False, False, False, False, False,\n",
       "       False, False, False, False,  True,  True, False,  True, False,\n",
       "       False, False, False, False, False,  True, False, False, False,\n",
       "       False, False, False, False, False, False, False, False, False,\n",
       "       False, False, False, False, False, False, False, False, False,\n",
       "       False, False, False, False, False, False, False, False, False,\n",
       "       False,  True, False, False, False, False, False, False, False,\n",
       "       False, False, False, False, False, False, False, False, False,\n",
       "       False, False, False, False, False, False, False, False, False,\n",
       "       False, False, False, False, False, False, False, False, False,\n",
       "       False, False, False, False, False, False, False, False, False,\n",
       "       False, False, False, False, False, False, False, False, False,\n",
       "       False, False, False, False, False, False, False, False, False,\n",
       "       False, False, False, False, False, False, False, False, False,\n",
       "       False, False, False, False, False, False, False, False, False,\n",
       "       False, False, False, False, False, False, False, False, False,\n",
       "       False, False, False, False, False, False, False, False, False,\n",
       "       False, False])"
      ]
     },
     "execution_count": 40,
     "metadata": {},
     "output_type": "execute_result"
    }
   ],
   "source": [
    "outliers_RM = np.where(Boston['RM'] > RM_upper_limit, True, np.where(Boston['RM'] < RM_lower_limit, True, False))\n",
    "outliers_RM"
   ]
  },
  {
   "cell_type": "markdown",
   "id": "9f29e26e",
   "metadata": {},
   "source": [
    "Finally, let's remove the outliers from the dataset:"
   ]
  },
  {
   "cell_type": "code",
   "execution_count": 41,
   "id": "6290898d",
   "metadata": {},
   "outputs": [
    {
     "data": {
      "text/html": [
       "<div>\n",
       "<style scoped>\n",
       "    .dataframe tbody tr th:only-of-type {\n",
       "        vertical-align: middle;\n",
       "    }\n",
       "\n",
       "    .dataframe tbody tr th {\n",
       "        vertical-align: top;\n",
       "    }\n",
       "\n",
       "    .dataframe thead th {\n",
       "        text-align: right;\n",
       "    }\n",
       "</style>\n",
       "<table border=\"1\" class=\"dataframe\">\n",
       "  <thead>\n",
       "    <tr style=\"text-align: right;\">\n",
       "      <th></th>\n",
       "      <th>CRIM</th>\n",
       "      <th>ZN</th>\n",
       "      <th>INDUS</th>\n",
       "      <th>CHAS</th>\n",
       "      <th>NOX</th>\n",
       "      <th>RM</th>\n",
       "      <th>AGE</th>\n",
       "      <th>DIS</th>\n",
       "      <th>RAD</th>\n",
       "      <th>TAX</th>\n",
       "      <th>PTRATIO</th>\n",
       "      <th>B</th>\n",
       "      <th>LSTAT</th>\n",
       "      <th>MEDV</th>\n",
       "      <th>CRIM_man</th>\n",
       "      <th>CRIM_log</th>\n",
       "    </tr>\n",
       "  </thead>\n",
       "  <tbody>\n",
       "    <tr>\n",
       "      <th>0</th>\n",
       "      <td>0.00632</td>\n",
       "      <td>18.0</td>\n",
       "      <td>2.31</td>\n",
       "      <td>0</td>\n",
       "      <td>0.538</td>\n",
       "      <td>6.575</td>\n",
       "      <td>65.2</td>\n",
       "      <td>4.0900</td>\n",
       "      <td>1</td>\n",
       "      <td>296</td>\n",
       "      <td>15.3</td>\n",
       "      <td>396.90</td>\n",
       "      <td>4.98</td>\n",
       "      <td>24.0</td>\n",
       "      <td>1.00632</td>\n",
       "      <td>0.006300</td>\n",
       "    </tr>\n",
       "    <tr>\n",
       "      <th>1</th>\n",
       "      <td>0.02731</td>\n",
       "      <td>0.0</td>\n",
       "      <td>7.07</td>\n",
       "      <td>0</td>\n",
       "      <td>0.469</td>\n",
       "      <td>6.421</td>\n",
       "      <td>78.9</td>\n",
       "      <td>4.9671</td>\n",
       "      <td>2</td>\n",
       "      <td>242</td>\n",
       "      <td>17.8</td>\n",
       "      <td>396.90</td>\n",
       "      <td>9.14</td>\n",
       "      <td>21.6</td>\n",
       "      <td>1.02731</td>\n",
       "      <td>0.026944</td>\n",
       "    </tr>\n",
       "    <tr>\n",
       "      <th>2</th>\n",
       "      <td>0.02729</td>\n",
       "      <td>0.0</td>\n",
       "      <td>7.07</td>\n",
       "      <td>0</td>\n",
       "      <td>0.469</td>\n",
       "      <td>7.185</td>\n",
       "      <td>61.1</td>\n",
       "      <td>4.9671</td>\n",
       "      <td>2</td>\n",
       "      <td>242</td>\n",
       "      <td>17.8</td>\n",
       "      <td>392.83</td>\n",
       "      <td>4.03</td>\n",
       "      <td>34.7</td>\n",
       "      <td>1.02729</td>\n",
       "      <td>0.026924</td>\n",
       "    </tr>\n",
       "    <tr>\n",
       "      <th>3</th>\n",
       "      <td>0.03237</td>\n",
       "      <td>0.0</td>\n",
       "      <td>2.18</td>\n",
       "      <td>0</td>\n",
       "      <td>0.458</td>\n",
       "      <td>6.998</td>\n",
       "      <td>45.8</td>\n",
       "      <td>6.0622</td>\n",
       "      <td>3</td>\n",
       "      <td>222</td>\n",
       "      <td>18.7</td>\n",
       "      <td>394.63</td>\n",
       "      <td>2.94</td>\n",
       "      <td>33.4</td>\n",
       "      <td>1.03237</td>\n",
       "      <td>0.031857</td>\n",
       "    </tr>\n",
       "    <tr>\n",
       "      <th>4</th>\n",
       "      <td>0.06905</td>\n",
       "      <td>0.0</td>\n",
       "      <td>2.18</td>\n",
       "      <td>0</td>\n",
       "      <td>0.458</td>\n",
       "      <td>7.147</td>\n",
       "      <td>54.2</td>\n",
       "      <td>6.0622</td>\n",
       "      <td>3</td>\n",
       "      <td>222</td>\n",
       "      <td>18.7</td>\n",
       "      <td>396.90</td>\n",
       "      <td>5.33</td>\n",
       "      <td>36.2</td>\n",
       "      <td>1.06905</td>\n",
       "      <td>0.066770</td>\n",
       "    </tr>\n",
       "    <tr>\n",
       "      <th>...</th>\n",
       "      <td>...</td>\n",
       "      <td>...</td>\n",
       "      <td>...</td>\n",
       "      <td>...</td>\n",
       "      <td>...</td>\n",
       "      <td>...</td>\n",
       "      <td>...</td>\n",
       "      <td>...</td>\n",
       "      <td>...</td>\n",
       "      <td>...</td>\n",
       "      <td>...</td>\n",
       "      <td>...</td>\n",
       "      <td>...</td>\n",
       "      <td>...</td>\n",
       "      <td>...</td>\n",
       "      <td>...</td>\n",
       "    </tr>\n",
       "    <tr>\n",
       "      <th>501</th>\n",
       "      <td>0.06263</td>\n",
       "      <td>0.0</td>\n",
       "      <td>11.93</td>\n",
       "      <td>0</td>\n",
       "      <td>0.573</td>\n",
       "      <td>6.593</td>\n",
       "      <td>69.1</td>\n",
       "      <td>2.4786</td>\n",
       "      <td>1</td>\n",
       "      <td>273</td>\n",
       "      <td>21.0</td>\n",
       "      <td>391.99</td>\n",
       "      <td>9.67</td>\n",
       "      <td>22.4</td>\n",
       "      <td>1.06263</td>\n",
       "      <td>0.060747</td>\n",
       "    </tr>\n",
       "    <tr>\n",
       "      <th>502</th>\n",
       "      <td>0.04527</td>\n",
       "      <td>0.0</td>\n",
       "      <td>11.93</td>\n",
       "      <td>0</td>\n",
       "      <td>0.573</td>\n",
       "      <td>6.120</td>\n",
       "      <td>76.7</td>\n",
       "      <td>2.2875</td>\n",
       "      <td>1</td>\n",
       "      <td>273</td>\n",
       "      <td>21.0</td>\n",
       "      <td>396.90</td>\n",
       "      <td>9.08</td>\n",
       "      <td>20.6</td>\n",
       "      <td>1.04527</td>\n",
       "      <td>0.044275</td>\n",
       "    </tr>\n",
       "    <tr>\n",
       "      <th>503</th>\n",
       "      <td>0.06076</td>\n",
       "      <td>0.0</td>\n",
       "      <td>11.93</td>\n",
       "      <td>0</td>\n",
       "      <td>0.573</td>\n",
       "      <td>6.976</td>\n",
       "      <td>91.0</td>\n",
       "      <td>2.1675</td>\n",
       "      <td>1</td>\n",
       "      <td>273</td>\n",
       "      <td>21.0</td>\n",
       "      <td>396.90</td>\n",
       "      <td>5.64</td>\n",
       "      <td>23.9</td>\n",
       "      <td>1.06076</td>\n",
       "      <td>0.058986</td>\n",
       "    </tr>\n",
       "    <tr>\n",
       "      <th>504</th>\n",
       "      <td>0.10959</td>\n",
       "      <td>0.0</td>\n",
       "      <td>11.93</td>\n",
       "      <td>0</td>\n",
       "      <td>0.573</td>\n",
       "      <td>6.794</td>\n",
       "      <td>89.3</td>\n",
       "      <td>2.3889</td>\n",
       "      <td>1</td>\n",
       "      <td>273</td>\n",
       "      <td>21.0</td>\n",
       "      <td>393.45</td>\n",
       "      <td>6.48</td>\n",
       "      <td>22.0</td>\n",
       "      <td>1.10959</td>\n",
       "      <td>0.103991</td>\n",
       "    </tr>\n",
       "    <tr>\n",
       "      <th>505</th>\n",
       "      <td>0.04741</td>\n",
       "      <td>0.0</td>\n",
       "      <td>11.93</td>\n",
       "      <td>0</td>\n",
       "      <td>0.573</td>\n",
       "      <td>6.030</td>\n",
       "      <td>80.8</td>\n",
       "      <td>2.5050</td>\n",
       "      <td>1</td>\n",
       "      <td>273</td>\n",
       "      <td>21.0</td>\n",
       "      <td>396.90</td>\n",
       "      <td>7.88</td>\n",
       "      <td>11.9</td>\n",
       "      <td>1.04741</td>\n",
       "      <td>0.046320</td>\n",
       "    </tr>\n",
       "  </tbody>\n",
       "</table>\n",
       "<p>498 rows × 16 columns</p>\n",
       "</div>"
      ],
      "text/plain": [
       "        CRIM    ZN  INDUS  CHAS    NOX     RM   AGE     DIS  RAD  TAX  \\\n",
       "0    0.00632  18.0   2.31     0  0.538  6.575  65.2  4.0900    1  296   \n",
       "1    0.02731   0.0   7.07     0  0.469  6.421  78.9  4.9671    2  242   \n",
       "2    0.02729   0.0   7.07     0  0.469  7.185  61.1  4.9671    2  242   \n",
       "3    0.03237   0.0   2.18     0  0.458  6.998  45.8  6.0622    3  222   \n",
       "4    0.06905   0.0   2.18     0  0.458  7.147  54.2  6.0622    3  222   \n",
       "..       ...   ...    ...   ...    ...    ...   ...     ...  ...  ...   \n",
       "501  0.06263   0.0  11.93     0  0.573  6.593  69.1  2.4786    1  273   \n",
       "502  0.04527   0.0  11.93     0  0.573  6.120  76.7  2.2875    1  273   \n",
       "503  0.06076   0.0  11.93     0  0.573  6.976  91.0  2.1675    1  273   \n",
       "504  0.10959   0.0  11.93     0  0.573  6.794  89.3  2.3889    1  273   \n",
       "505  0.04741   0.0  11.93     0  0.573  6.030  80.8  2.5050    1  273   \n",
       "\n",
       "     PTRATIO       B  LSTAT  MEDV  CRIM_man  CRIM_log  \n",
       "0       15.3  396.90   4.98  24.0   1.00632  0.006300  \n",
       "1       17.8  396.90   9.14  21.6   1.02731  0.026944  \n",
       "2       17.8  392.83   4.03  34.7   1.02729  0.026924  \n",
       "3       18.7  394.63   2.94  33.4   1.03237  0.031857  \n",
       "4       18.7  396.90   5.33  36.2   1.06905  0.066770  \n",
       "..       ...     ...    ...   ...       ...       ...  \n",
       "501     21.0  391.99   9.67  22.4   1.06263  0.060747  \n",
       "502     21.0  396.90   9.08  20.6   1.04527  0.044275  \n",
       "503     21.0  396.90   5.64  23.9   1.06076  0.058986  \n",
       "504     21.0  393.45   6.48  22.0   1.10959  0.103991  \n",
       "505     21.0  396.90   7.88  11.9   1.04741  0.046320  \n",
       "\n",
       "[498 rows x 16 columns]"
      ]
     },
     "execution_count": 41,
     "metadata": {},
     "output_type": "execute_result"
    }
   ],
   "source": [
    "boston_trimmed = Boston.loc[~(outliers_RM)]\n",
    "boston_trimmed"
   ]
  },
  {
   "cell_type": "markdown",
   "id": "7400105c",
   "metadata": {},
   "source": [
    "Alternatively, if we want to use quantiles to calculate the limits, we should write\n",
    "the function like in the next step. Find the outlier boundaries using quantiles. The boundaries for RM for this functin can be calculated as follows: RM_upper_limit, RM_lower_limit = find_boundaries(Boston, 'RM')"
   ]
  },
  {
   "cell_type": "code",
   "execution_count": 36,
   "id": "566536f6",
   "metadata": {},
   "outputs": [],
   "source": [
    "def find_boundaries(df, variable):\n",
    " lower_boundary = df[variable].quantile(0.05)\n",
    " upper_boundary = df[variable].quantile(0.95)\n",
    " return upper_boundary, lower_boundary"
   ]
  },
  {
   "cell_type": "markdown",
   "id": "585c4a97",
   "metadata": {},
   "source": [
    "## Remove Outliers Across Several Variables"
   ]
  },
  {
   "cell_type": "markdown",
   "id": "7082071d",
   "metadata": {},
   "source": [
    "Create a function that takes a dataframe, a variable name, and the factor to use in\n",
    "the IQR calculation and returns the IQR proximity rule boundaries:"
   ]
  },
  {
   "cell_type": "code",
   "execution_count": 47,
   "id": "cbde7dfe",
   "metadata": {},
   "outputs": [],
   "source": [
    "def find_boundaries(df, variable, distance):\n",
    " IQR = df[variable].quantile(0.75) - df[variable].quantile(0.25)\n",
    " lower_boundary = df[variable].quantile(0.25) - (IQR * distance)\n",
    " upper_boundary = df[variable].quantile(0.75) + (IQR * distance)\n",
    " return upper_boundary, lower_boundary"
   ]
  },
  {
   "cell_type": "markdown",
   "id": "2c080172",
   "metadata": {},
   "source": [
    " Visualise the RM, LSTAT and CRIM variables in a boxplot. First, select the relevant variables"
   ]
  },
  {
   "cell_type": "code",
   "execution_count": 43,
   "id": "5733a309",
   "metadata": {},
   "outputs": [],
   "source": [
    "df_2 = Boston[['RM', 'LSTAT', 'CRIM']]"
   ]
  },
  {
   "cell_type": "code",
   "execution_count": 44,
   "id": "294845c0",
   "metadata": {},
   "outputs": [
    {
     "data": {
      "text/plain": [
       "<AxesSubplot:>"
      ]
     },
     "execution_count": 44,
     "metadata": {},
     "output_type": "execute_result"
    },
    {
     "data": {
      "image/png": "[encoded data removed]",
      "text/plain": [
       "<Figure size 432x288 with 1 Axes>"
      ]
     },
     "metadata": {
      "needs_background": "light"
     },
     "output_type": "display_data"
    }
   ],
   "source": [
    "sns.boxplot(data = df_2, orient = \"h\", palette = \"Set2\")"
   ]
  },
  {
   "cell_type": "markdown",
   "id": "272a11d6",
   "metadata": {},
   "source": [
    "Let's calculate the boundaries for the RM, LSTAT, and CRIM variables"
   ]
  },
  {
   "cell_type": "code",
   "execution_count": 46,
   "id": "d5aaf698",
   "metadata": {},
   "outputs": [],
   "source": [
    "RM_upper_limit, RM_lower_limit = find_boundaries(Boston, 'RM', 1.5) \n",
    "LSTAT_upper_limit, LSTAT_lower_limit = find_boundaries(Boston, 'LSTAT', 1.5) \n",
    "CRIM_upper_limit, CRIM_lower_limit = find_boundaries(Boston, 'CRIM', 1.5)"
   ]
  },
  {
   "cell_type": "markdown",
   "id": "e5748c3c",
   "metadata": {},
   "source": [
    "Let's create Boolean vectors that flag the outliers for each one of RM, LSTAT, and\n",
    "CRIM:"
   ]
  },
  {
   "cell_type": "code",
   "execution_count": 50,
   "id": "274fec53",
   "metadata": {},
   "outputs": [],
   "source": [
    "outliers_RM = np.where(Boston['RM'] > RM_upper_limit, True, np.where(Boston['RM'] < RM_lower_limit, True, False))\n",
    "outliers_LSTAT = np.where(Boston['LSTAT'] > LSTAT_upper_limit, True, np.where(Boston['LSTAT'] < LSTAT_lower_limit, True, False))\n",
    "outliers_CRIM = np.where(Boston['CRIM'] > CRIM_upper_limit, True, np.where(Boston['CRIM'] < CRIM_lower_limit, True, False))"
   ]
  },
  {
   "cell_type": "markdown",
   "id": "9b85f10e",
   "metadata": {},
   "source": [
    "Finally, let's remove the observations with outliers in any of the variables:"
   ]
  },
  {
   "cell_type": "code",
   "execution_count": 52,
   "id": "c8928f38",
   "metadata": {},
   "outputs": [],
   "source": [
    "boston_trimmed = Boston.loc[~(outliers_RM + outliers_LSTAT + outliers_CRIM)]"
   ]
  },
  {
   "cell_type": "markdown",
   "id": "fa19a375",
   "metadata": {},
   "source": [
    "As evident in the plot below, outliers remain in the CRIM variable even after trimming in this manner. Further work to remove outliers is needed."
   ]
  },
  {
   "cell_type": "code",
   "execution_count": 55,
   "id": "cc7d2ea7",
   "metadata": {},
   "outputs": [
    {
     "data": {
      "text/plain": [
       "<AxesSubplot:>"
      ]
     },
     "execution_count": 55,
     "metadata": {},
     "output_type": "execute_result"
    },
    {
     "data": {
      "image/png": "[encoded data removed]",
      "text/plain": [
       "<Figure size 432x288 with 1 Axes>"
      ]
     },
     "metadata": {
      "needs_background": "light"
     },
     "output_type": "display_data"
    }
   ],
   "source": [
    "df_2 = boston_trimmed[['RM', 'LSTAT', 'CRIM']]\n",
    "sns.boxplot(data = df_2, orient = \"h\", palette = \"Set2\")"
   ]
  },
  {
   "cell_type": "markdown",
   "id": "af2c8e00",
   "metadata": {},
   "source": [
    "# Performing winsorization"
   ]
  },
  {
   "cell_type": "markdown",
   "id": "30dc996e",
   "metadata": {},
   "source": [
    "Winsorization, or winsorizing, is the process of transforming the data by limiting the\n",
    "extreme values, that is, the outliers, to a certain arbitrary value, closer to the mean of the\n",
    "distribution. Winsorizing is different from trimming because the extreme values are not\n",
    "removed, but are instead replaced by other values. A typical strategy involves setting\n",
    "outliers to a specified percentile. For example, with 90% winsorization, we set all data below the 5th percentile to the value at the 5th percentile and all data above the 95th percentile to the value at the 95th percentile.\n",
    "Winsorization is symmetric; therefore, the winsorized mean of a symmetric distribution\n",
    "provides an unbiased representation of the distribution of the variable. Here, we\n",
    "will perform winsorization using pandas, NumPy, and Feature-engine."
   ]
  },
  {
   "cell_type": "code",
   "execution_count": 93,
   "id": "06674c26",
   "metadata": {},
   "outputs": [],
   "source": [
    "import pandas as pd\n",
    "import numpy as np\n",
    "import matplotlib.pyplot as plt\n",
    "import seaborn as sns\n",
    "import scipy.stats as stats # for QQ Plots\n",
    "from feature_engine.outliers import Winsorizer"
   ]
  },
  {
   "cell_type": "code",
   "execution_count": 57,
   "id": "0bef38e4",
   "metadata": {},
   "outputs": [
    {
     "data": {
      "text/html": [
       "<div>\n",
       "<style scoped>\n",
       "    .dataframe tbody tr th:only-of-type {\n",
       "        vertical-align: middle;\n",
       "    }\n",
       "\n",
       "    .dataframe tbody tr th {\n",
       "        vertical-align: top;\n",
       "    }\n",
       "\n",
       "    .dataframe thead th {\n",
       "        text-align: right;\n",
       "    }\n",
       "</style>\n",
       "<table border=\"1\" class=\"dataframe\">\n",
       "  <thead>\n",
       "    <tr style=\"text-align: right;\">\n",
       "      <th></th>\n",
       "      <th>CRIM</th>\n",
       "      <th>ZN</th>\n",
       "      <th>INDUS</th>\n",
       "      <th>CHAS</th>\n",
       "      <th>NOX</th>\n",
       "      <th>RM</th>\n",
       "      <th>AGE</th>\n",
       "      <th>DIS</th>\n",
       "      <th>RAD</th>\n",
       "      <th>TAX</th>\n",
       "      <th>PTRATIO</th>\n",
       "      <th>B</th>\n",
       "      <th>LSTAT</th>\n",
       "      <th>MEDV</th>\n",
       "    </tr>\n",
       "  </thead>\n",
       "  <tbody>\n",
       "    <tr>\n",
       "      <th>0</th>\n",
       "      <td>0.00632</td>\n",
       "      <td>18.0</td>\n",
       "      <td>2.31</td>\n",
       "      <td>0</td>\n",
       "      <td>0.538</td>\n",
       "      <td>6.575</td>\n",
       "      <td>65.2</td>\n",
       "      <td>4.0900</td>\n",
       "      <td>1</td>\n",
       "      <td>296</td>\n",
       "      <td>15.3</td>\n",
       "      <td>396.90</td>\n",
       "      <td>4.98</td>\n",
       "      <td>24.0</td>\n",
       "    </tr>\n",
       "    <tr>\n",
       "      <th>1</th>\n",
       "      <td>0.02731</td>\n",
       "      <td>0.0</td>\n",
       "      <td>7.07</td>\n",
       "      <td>0</td>\n",
       "      <td>0.469</td>\n",
       "      <td>6.421</td>\n",
       "      <td>78.9</td>\n",
       "      <td>4.9671</td>\n",
       "      <td>2</td>\n",
       "      <td>242</td>\n",
       "      <td>17.8</td>\n",
       "      <td>396.90</td>\n",
       "      <td>9.14</td>\n",
       "      <td>21.6</td>\n",
       "    </tr>\n",
       "    <tr>\n",
       "      <th>2</th>\n",
       "      <td>0.02729</td>\n",
       "      <td>0.0</td>\n",
       "      <td>7.07</td>\n",
       "      <td>0</td>\n",
       "      <td>0.469</td>\n",
       "      <td>7.185</td>\n",
       "      <td>61.1</td>\n",
       "      <td>4.9671</td>\n",
       "      <td>2</td>\n",
       "      <td>242</td>\n",
       "      <td>17.8</td>\n",
       "      <td>392.83</td>\n",
       "      <td>4.03</td>\n",
       "      <td>34.7</td>\n",
       "    </tr>\n",
       "    <tr>\n",
       "      <th>3</th>\n",
       "      <td>0.03237</td>\n",
       "      <td>0.0</td>\n",
       "      <td>2.18</td>\n",
       "      <td>0</td>\n",
       "      <td>0.458</td>\n",
       "      <td>6.998</td>\n",
       "      <td>45.8</td>\n",
       "      <td>6.0622</td>\n",
       "      <td>3</td>\n",
       "      <td>222</td>\n",
       "      <td>18.7</td>\n",
       "      <td>394.63</td>\n",
       "      <td>2.94</td>\n",
       "      <td>33.4</td>\n",
       "    </tr>\n",
       "    <tr>\n",
       "      <th>4</th>\n",
       "      <td>0.06905</td>\n",
       "      <td>0.0</td>\n",
       "      <td>2.18</td>\n",
       "      <td>0</td>\n",
       "      <td>0.458</td>\n",
       "      <td>7.147</td>\n",
       "      <td>54.2</td>\n",
       "      <td>6.0622</td>\n",
       "      <td>3</td>\n",
       "      <td>222</td>\n",
       "      <td>18.7</td>\n",
       "      <td>396.90</td>\n",
       "      <td>5.33</td>\n",
       "      <td>36.2</td>\n",
       "    </tr>\n",
       "  </tbody>\n",
       "</table>\n",
       "</div>"
      ],
      "text/plain": [
       "      CRIM    ZN  INDUS  CHAS    NOX     RM   AGE     DIS  RAD  TAX  PTRATIO  \\\n",
       "0  0.00632  18.0   2.31     0  0.538  6.575  65.2  4.0900    1  296     15.3   \n",
       "1  0.02731   0.0   7.07     0  0.469  6.421  78.9  4.9671    2  242     17.8   \n",
       "2  0.02729   0.0   7.07     0  0.469  7.185  61.1  4.9671    2  242     17.8   \n",
       "3  0.03237   0.0   2.18     0  0.458  6.998  45.8  6.0622    3  222     18.7   \n",
       "4  0.06905   0.0   2.18     0  0.458  7.147  54.2  6.0622    3  222     18.7   \n",
       "\n",
       "        B  LSTAT  MEDV  \n",
       "0  396.90   4.98  24.0  \n",
       "1  396.90   9.14  21.6  \n",
       "2  392.83   4.03  34.7  \n",
       "3  394.63   2.94  33.4  \n",
       "4  396.90   5.33  36.2  "
      ]
     },
     "execution_count": 57,
     "metadata": {},
     "output_type": "execute_result"
    }
   ],
   "source": [
    "# Load Boston Data Set\n",
    "Boston = pd.read_csv('C:/Python_Data_Sets/Boston.csv')\n",
    "Boston.head()"
   ]
  },
  {
   "cell_type": "code",
   "execution_count": 114,
   "id": "becb5066",
   "metadata": {},
   "outputs": [
    {
     "name": "stdout",
     "output_type": "stream",
     "text": [
      "<class 'pandas.core.frame.DataFrame'>\n",
      "RangeIndex: 506 entries, 0 to 505\n",
      "Data columns (total 14 columns):\n",
      " #   Column   Non-Null Count  Dtype  \n",
      "---  ------   --------------  -----  \n",
      " 0   CRIM     506 non-null    float64\n",
      " 1   ZN       506 non-null    float64\n",
      " 2   INDUS    506 non-null    float64\n",
      " 3   CHAS     506 non-null    int64  \n",
      " 4   NOX      506 non-null    float64\n",
      " 5   RM       506 non-null    float64\n",
      " 6   AGE      506 non-null    float64\n",
      " 7   DIS      506 non-null    float64\n",
      " 8   RAD      506 non-null    int64  \n",
      " 9   TAX      506 non-null    int64  \n",
      " 10  PTRATIO  506 non-null    float64\n",
      " 11  B        506 non-null    float64\n",
      " 12  LSTAT    506 non-null    float64\n",
      " 13  MEDV     506 non-null    float64\n",
      "dtypes: float64(11), int64(3)\n",
      "memory usage: 55.5 KB\n"
     ]
    }
   ],
   "source": [
    "Boston.info()"
   ]
  },
  {
   "cell_type": "markdown",
   "id": "f9fdc233",
   "metadata": {},
   "source": [
    "Let's make a function to winsorize a variable to arbitrary upper and lower limits:"
   ]
  },
  {
   "cell_type": "code",
   "execution_count": 86,
   "id": "36bdecbb",
   "metadata": {},
   "outputs": [],
   "source": [
    "def winsorise(df, variable, upper_limit, lower_limit):\n",
    "    return np.where(df[variable] > upper_limit, upper_limit, \n",
    "                    np.where(df[variable] < lower_limit, lower_limit, df[variable]))"
   ]
  },
  {
   "cell_type": "markdown",
   "id": "b83675b2",
   "metadata": {},
   "source": [
    "Remember that it is good practice to separate the data into training and\n",
    "testing sets and train Winsorizer on the train set. This way, the\n",
    "transformer will use the percentiles learned from the train set to cap the\n",
    "variables in train, test, and all future data. Let's winsorize on the RM variable:"
   ]
  },
  {
   "cell_type": "code",
   "execution_count": 119,
   "id": "c0295a2a",
   "metadata": {},
   "outputs": [],
   "source": [
    "X_train, X_test, y_train, y_test = train_test_split(\n",
    " Boston.drop('RM', axis = 1), Boston['RM'], test_size = 0.3,\n",
    " random_state = 0)"
   ]
  },
  {
   "cell_type": "markdown",
   "id": "445e7760",
   "metadata": {},
   "source": [
    "Function to create histogram, Q-Q plot and boxplot. Add a kernel density estimate to smooth the histogram, providing complementary information about the shape of the distribution"
   ]
  },
  {
   "cell_type": "code",
   "execution_count": 80,
   "id": "0e5000f4",
   "metadata": {},
   "outputs": [],
   "source": [
    "def diagnostic_plots(df, variable):\n",
    "    # function takes a dataframe (df) and\n",
    "    # the variable of interest as arguments\n",
    "\n",
    "    # define figure size\n",
    "    plt.figure(figsize = (16, 4))\n",
    "\n",
    "    # histogram\n",
    "    plt.subplot(1, 3, 1)\n",
    "    sns.histplot(df[variable], bins = 30, kde = True)\n",
    "    plt.title('Histogram')\n",
    "\n",
    "    # Q-Q plot\n",
    "    plt.subplot(1, 3, 2)\n",
    "    stats.probplot(df[variable], dist = \"norm\", plot = plt)\n",
    "    plt.ylabel('RM quantiles')\n",
    "\n",
    "    # boxplot\n",
    "    plt.subplot(1, 3, 3)\n",
    "    sns.boxplot(y = df[variable])\n",
    "    plt.title('Boxplot')\n",
    "\n",
    "    plt.show()"
   ]
  },
  {
   "cell_type": "markdown",
   "id": "643f4970",
   "metadata": {},
   "source": [
    "Let's find outliers in RM"
   ]
  },
  {
   "cell_type": "code",
   "execution_count": 120,
   "id": "05a45752",
   "metadata": {},
   "outputs": [
    {
     "data": {
      "image/png": "[encoded data removed]",
      "text/plain": [
       "<Figure size 1152x288 with 3 Axes>"
      ]
     },
     "metadata": {
      "needs_background": "light"
     },
     "output_type": "display_data"
    }
   ],
   "source": [
    "# visualise outliers in RM\n",
    "\n",
    "diagnostic_plots(Boston, 'RM')"
   ]
  },
  {
   "cell_type": "code",
   "execution_count": 82,
   "id": "28fd14c3",
   "metadata": {},
   "outputs": [
    {
     "data": {
      "image/png": "[encoded data removed]",
      "text/plain": [
       "<Figure size 1152x288 with 3 Axes>"
      ]
     },
     "metadata": {
      "needs_background": "light"
     },
     "output_type": "display_data"
    }
   ],
   "source": [
    "# visualise outliers in LSTAT\n",
    "\n",
    "diagnostic_plots(Boston, 'LSTAT')"
   ]
  },
  {
   "cell_type": "code",
   "execution_count": 83,
   "id": "6062a074",
   "metadata": {},
   "outputs": [
    {
     "data": {
      "image/png": "[encoded data removed]",
      "text/plain": [
       "<Figure size 1152x288 with 3 Axes>"
      ]
     },
     "metadata": {
      "needs_background": "light"
     },
     "output_type": "display_data"
    }
   ],
   "source": [
    "# outliers in CRIM\n",
    "\n",
    "diagnostic_plots(Boston, 'CRIM')"
   ]
  },
  {
   "cell_type": "code",
   "execution_count": 87,
   "id": "c2796d6a",
   "metadata": {},
   "outputs": [],
   "source": [
    "# Now let's replace the outliers by the percentiles\n",
    "\n",
    "Boston['RM'] = winsorise(Boston, 'RM', Boston['RM'].quantile(0.95), Boston['RM'].quantile(0.05))\n",
    "Boston['LSTAT'] = winsorise(Boston, 'LSTAT', Boston['LSTAT'].quantile(0.95), Boston['LSTAT'].quantile(0.05))\n",
    "Boston['CRIM'] = winsorise(Boston, 'CRIM', Boston['CRIM'].quantile(0.95), Boston['CRIM'].quantile(0.05))"
   ]
  },
  {
   "cell_type": "code",
   "execution_count": 88,
   "id": "d6f01706",
   "metadata": {},
   "outputs": [
    {
     "data": {
      "image/png": "[encoded data removed]",
      "text/plain": [
       "<Figure size 1152x288 with 3 Axes>"
      ]
     },
     "metadata": {
      "needs_background": "light"
     },
     "output_type": "display_data"
    }
   ],
   "source": [
    "# let's explore outliers in the trimmed dataset\n",
    "# for RM we see much less outliers as in the original dataset\n",
    "\n",
    "diagnostic_plots(Boston, 'RM')"
   ]
  },
  {
   "cell_type": "code",
   "execution_count": 89,
   "id": "25c62afc",
   "metadata": {},
   "outputs": [
    {
     "data": {
      "image/png": "[encoded data removed]",
      "text/plain": [
       "<Figure size 1152x288 with 3 Axes>"
      ]
     },
     "metadata": {
      "needs_background": "light"
     },
     "output_type": "display_data"
    }
   ],
   "source": [
    "diagnostic_plots(Boston, 'LSTAT')"
   ]
  },
  {
   "cell_type": "code",
   "execution_count": 91,
   "id": "c9612aaf",
   "metadata": {},
   "outputs": [
    {
     "data": {
      "image/png": "[encoded data removed]",
      "text/plain": [
       "<Figure size 1152x288 with 3 Axes>"
      ]
     },
     "metadata": {
      "needs_background": "light"
     },
     "output_type": "display_data"
    }
   ],
   "source": [
    "diagnostic_plots(Boston, 'CRIM')"
   ]
  },
  {
   "cell_type": "markdown",
   "id": "7ab24181",
   "metadata": {},
   "source": [
    "## Winorize Several Variables at the same time"
   ]
  },
  {
   "cell_type": "markdown",
   "id": "8e035c45",
   "metadata": {},
   "source": [
    "Set up a Feature-engine Winsorizer indicating which variables we want to\n",
    "winsorize. The Fold parameter is the percentile on each tail that should be censored. For example, if fold = 0.05, the limits will be the 5th and 95th percentiles. If fold=0.1, the limits will be the 10th and 90th percentiles."
   ]
  },
  {
   "cell_type": "code",
   "execution_count": 123,
   "id": "6b2ec083",
   "metadata": {},
   "outputs": [],
   "source": [
    "windsorizer = Winsorizer(capping_method = 'quantiles', fold = 0.05, tail = 'both', variables = ['LSTAT', 'CRIM'])"
   ]
  },
  {
   "cell_type": "markdown",
   "id": "20495b2d",
   "metadata": {},
   "source": [
    "Fit windsorizer to the data so that it learns the percentiles:"
   ]
  },
  {
   "cell_type": "code",
   "execution_count": 124,
   "id": "83ef5d1d",
   "metadata": {},
   "outputs": [
    {
     "data": {
      "text/plain": [
       "Winsorizer(capping_method='quantiles', fold=0.05, tail='both',\n",
       "           variables=['LSTAT', 'CRIM'])"
      ]
     },
     "execution_count": 124,
     "metadata": {},
     "output_type": "execute_result"
    }
   ],
   "source": [
    "windsorizer.fit(X_train)"
   ]
  },
  {
   "cell_type": "markdown",
   "id": "a7246d0f",
   "metadata": {},
   "source": [
    "Winsorize the LSTAT, and CRIM variables:"
   ]
  },
  {
   "cell_type": "code",
   "execution_count": 125,
   "id": "72e3da6e",
   "metadata": {},
   "outputs": [],
   "source": [
    "# transform the data\n",
    "boston_t = windsorizer.transform(X_train)\n",
    "boston_t = windsorizer.transform(X_test)"
   ]
  },
  {
   "cell_type": "markdown",
   "id": "a025e268",
   "metadata": {},
   "source": [
    "We can inspect the 5th percentiles learned by winsorizer like in the next step.\n",
    "Inspect the learned 5th 5. percentiles:"
   ]
  },
  {
   "cell_type": "code",
   "execution_count": 126,
   "id": "8390bb0b",
   "metadata": {},
   "outputs": [
    {
     "data": {
      "text/plain": [
       "{'LSTAT': 3.7075, 'CRIM': 0.027909999999999997}"
      ]
     },
     "execution_count": 126,
     "metadata": {},
     "output_type": "execute_result"
    }
   ],
   "source": [
    "windsorizer.left_tail_caps_"
   ]
  },
  {
   "cell_type": "markdown",
   "id": "ccc93dc3",
   "metadata": {},
   "source": [
    "And we can inspect the 95th percentiles learned by windsorizer like in the next\n",
    "step. Inspect the learned 95th 6. percentiles:"
   ]
  },
  {
   "cell_type": "code",
   "execution_count": 127,
   "id": "ddff64fc",
   "metadata": {},
   "outputs": [
    {
     "data": {
      "text/plain": [
       "{'LSTAT': 26.4305, 'CRIM': 15.077229999999995}"
      ]
     },
     "execution_count": 127,
     "metadata": {},
     "output_type": "execute_result"
    }
   ],
   "source": [
    "windsorizer.right_tail_caps_"
   ]
  },
  {
   "cell_type": "markdown",
   "id": "f23088bf",
   "metadata": {},
   "source": [
    "## Capping the variable at arbitrary maximum and minimum values"
   ]
  },
  {
   "cell_type": "markdown",
   "id": "a15a8b82",
   "metadata": {},
   "source": [
    "Similarly to winsorization, we can replace the extreme values by values closer to other\n",
    "values in the variable, by determining the maximum and minimum boundaries with the\n",
    "mean plus or minus the standard deviation, or the inter-quartile range proximity rule. This\n",
    "procedure is also called bottom and top coding, censoring, or capping. We can cap both\n",
    "extremes of the distribution or just one of the tails, depending on where we find the outliers\n",
    "in the variable. Here, we will replace extreme values by the mean and standard\n",
    "deviation or the inter-quartile range proximity rule, using pandas, NumPy, and Feature-engine."
   ]
  },
  {
   "cell_type": "code",
   "execution_count": 131,
   "id": "c574e60b",
   "metadata": {},
   "outputs": [],
   "source": [
    "import pandas as pd\n",
    "import numpy as np\n",
    "import matplotlib.pyplot as plt\n",
    "import seaborn as sns\n",
    "from feature_engine.outliers import ArbitraryOutlierCapper"
   ]
  },
  {
   "cell_type": "code",
   "execution_count": 129,
   "id": "83ca2f04",
   "metadata": {},
   "outputs": [
    {
     "data": {
      "text/html": [
       "<div>\n",
       "<style scoped>\n",
       "    .dataframe tbody tr th:only-of-type {\n",
       "        vertical-align: middle;\n",
       "    }\n",
       "\n",
       "    .dataframe tbody tr th {\n",
       "        vertical-align: top;\n",
       "    }\n",
       "\n",
       "    .dataframe thead th {\n",
       "        text-align: right;\n",
       "    }\n",
       "</style>\n",
       "<table border=\"1\" class=\"dataframe\">\n",
       "  <thead>\n",
       "    <tr style=\"text-align: right;\">\n",
       "      <th></th>\n",
       "      <th>CRIM</th>\n",
       "      <th>ZN</th>\n",
       "      <th>INDUS</th>\n",
       "      <th>CHAS</th>\n",
       "      <th>NOX</th>\n",
       "      <th>RM</th>\n",
       "      <th>AGE</th>\n",
       "      <th>DIS</th>\n",
       "      <th>RAD</th>\n",
       "      <th>TAX</th>\n",
       "      <th>PTRATIO</th>\n",
       "      <th>B</th>\n",
       "      <th>LSTAT</th>\n",
       "      <th>MEDV</th>\n",
       "    </tr>\n",
       "  </thead>\n",
       "  <tbody>\n",
       "    <tr>\n",
       "      <th>0</th>\n",
       "      <td>0.00632</td>\n",
       "      <td>18.0</td>\n",
       "      <td>2.31</td>\n",
       "      <td>0</td>\n",
       "      <td>0.538</td>\n",
       "      <td>6.575</td>\n",
       "      <td>65.2</td>\n",
       "      <td>4.0900</td>\n",
       "      <td>1</td>\n",
       "      <td>296</td>\n",
       "      <td>15.3</td>\n",
       "      <td>396.90</td>\n",
       "      <td>4.98</td>\n",
       "      <td>24.0</td>\n",
       "    </tr>\n",
       "    <tr>\n",
       "      <th>1</th>\n",
       "      <td>0.02731</td>\n",
       "      <td>0.0</td>\n",
       "      <td>7.07</td>\n",
       "      <td>0</td>\n",
       "      <td>0.469</td>\n",
       "      <td>6.421</td>\n",
       "      <td>78.9</td>\n",
       "      <td>4.9671</td>\n",
       "      <td>2</td>\n",
       "      <td>242</td>\n",
       "      <td>17.8</td>\n",
       "      <td>396.90</td>\n",
       "      <td>9.14</td>\n",
       "      <td>21.6</td>\n",
       "    </tr>\n",
       "    <tr>\n",
       "      <th>2</th>\n",
       "      <td>0.02729</td>\n",
       "      <td>0.0</td>\n",
       "      <td>7.07</td>\n",
       "      <td>0</td>\n",
       "      <td>0.469</td>\n",
       "      <td>7.185</td>\n",
       "      <td>61.1</td>\n",
       "      <td>4.9671</td>\n",
       "      <td>2</td>\n",
       "      <td>242</td>\n",
       "      <td>17.8</td>\n",
       "      <td>392.83</td>\n",
       "      <td>4.03</td>\n",
       "      <td>34.7</td>\n",
       "    </tr>\n",
       "    <tr>\n",
       "      <th>3</th>\n",
       "      <td>0.03237</td>\n",
       "      <td>0.0</td>\n",
       "      <td>2.18</td>\n",
       "      <td>0</td>\n",
       "      <td>0.458</td>\n",
       "      <td>6.998</td>\n",
       "      <td>45.8</td>\n",
       "      <td>6.0622</td>\n",
       "      <td>3</td>\n",
       "      <td>222</td>\n",
       "      <td>18.7</td>\n",
       "      <td>394.63</td>\n",
       "      <td>2.94</td>\n",
       "      <td>33.4</td>\n",
       "    </tr>\n",
       "    <tr>\n",
       "      <th>4</th>\n",
       "      <td>0.06905</td>\n",
       "      <td>0.0</td>\n",
       "      <td>2.18</td>\n",
       "      <td>0</td>\n",
       "      <td>0.458</td>\n",
       "      <td>7.147</td>\n",
       "      <td>54.2</td>\n",
       "      <td>6.0622</td>\n",
       "      <td>3</td>\n",
       "      <td>222</td>\n",
       "      <td>18.7</td>\n",
       "      <td>396.90</td>\n",
       "      <td>5.33</td>\n",
       "      <td>36.2</td>\n",
       "    </tr>\n",
       "  </tbody>\n",
       "</table>\n",
       "</div>"
      ],
      "text/plain": [
       "      CRIM    ZN  INDUS  CHAS    NOX     RM   AGE     DIS  RAD  TAX  PTRATIO  \\\n",
       "0  0.00632  18.0   2.31     0  0.538  6.575  65.2  4.0900    1  296     15.3   \n",
       "1  0.02731   0.0   7.07     0  0.469  6.421  78.9  4.9671    2  242     17.8   \n",
       "2  0.02729   0.0   7.07     0  0.469  7.185  61.1  4.9671    2  242     17.8   \n",
       "3  0.03237   0.0   2.18     0  0.458  6.998  45.8  6.0622    3  222     18.7   \n",
       "4  0.06905   0.0   2.18     0  0.458  7.147  54.2  6.0622    3  222     18.7   \n",
       "\n",
       "        B  LSTAT  MEDV  \n",
       "0  396.90   4.98  24.0  \n",
       "1  396.90   9.14  21.6  \n",
       "2  392.83   4.03  34.7  \n",
       "3  394.63   2.94  33.4  \n",
       "4  396.90   5.33  36.2  "
      ]
     },
     "execution_count": 129,
     "metadata": {},
     "output_type": "execute_result"
    }
   ],
   "source": [
    "# Load Boston Data Set\n",
    "Boston = pd.read_csv('C:/Python_Data_Sets/Boston.csv')\n",
    "Boston.head()"
   ]
  },
  {
   "cell_type": "markdown",
   "id": "122bbef7",
   "metadata": {},
   "source": [
    "Let's make a function to find the limits using the inter-quartile range proximity rule:"
   ]
  },
  {
   "cell_type": "code",
   "execution_count": 132,
   "id": "cb4f3fea",
   "metadata": {},
   "outputs": [],
   "source": [
    "def find_skewed_boundaries(df, variable, distance):\n",
    "\n",
    "    # Let's calculate the boundaries outside which sit the outliers\n",
    "    # for skewed distributions\n",
    "\n",
    "    # distance passed as an argument, gives us the option to\n",
    "    # estimate 1.5 times or 3 times the IQR to calculate\n",
    "    # the boundaries.\n",
    "\n",
    "    IQR = df[variable].quantile(0.75) - df[variable].quantile(0.25)\n",
    "\n",
    "    lower_boundary = df[variable].quantile(0.25) - (IQR * distance)\n",
    "    upper_boundary = df[variable].quantile(0.75) + (IQR * distance)\n",
    "\n",
    "    return upper_boundary, lower_boundary"
   ]
  },
  {
   "cell_type": "markdown",
   "id": "98fcb462",
   "metadata": {},
   "source": [
    "If, instead, we wanted to find the boundaries with the mean and standard\n",
    "deviation, we can rewrite our function as follows. Let's make a function to find the limits using the mean and the standard\n",
    "deviation. If the variable is not normally distributed, it may be more useful to use the\n",
    "inter-quartile range proximity rule to find the outliers.  I will continue by finding\n",
    "the limits using the mean and standard deviation.  "
   ]
  },
  {
   "cell_type": "code",
   "execution_count": 133,
   "id": "a6b4b0f3",
   "metadata": {},
   "outputs": [],
   "source": [
    "def find_normal_boundaries(df, variable, distance):\n",
    "\n",
    "    # calculate the boundaries outside which sit the outliers\n",
    "    # for a Gaussian distribution\n",
    "\n",
    "    upper_boundary = df[variable].mean() + distance * df[variable].std()\n",
    "    lower_boundary = df[variable].mean() - distance * df[variable].std()\n",
    "\n",
    "    return upper_boundary, lower_boundary"
   ]
  },
  {
   "cell_type": "markdown",
   "id": "1f41023f",
   "metadata": {},
   "source": [
    "Let's find the boundaries for the RM, LSTAT, and CRIM variables:"
   ]
  },
  {
   "cell_type": "code",
   "execution_count": 134,
   "id": "b2607946",
   "metadata": {},
   "outputs": [
    {
     "data": {
      "text/plain": [
       "(8.392485817597748, 4.176782957105809)"
      ]
     },
     "execution_count": 134,
     "metadata": {},
     "output_type": "execute_result"
    }
   ],
   "source": [
    "# find limits for RM\n",
    "\n",
    "RM_upper_limit, RM_lower_limit = find_normal_boundaries(Boston, 'RM', 3)\n",
    "RM_upper_limit, RM_lower_limit"
   ]
  },
  {
   "cell_type": "code",
   "execution_count": 135,
   "id": "e8b1a560",
   "metadata": {},
   "outputs": [
    {
     "data": {
      "text/plain": [
       "(34.07624777515244, -8.770121292938992)"
      ]
     },
     "execution_count": 135,
     "metadata": {},
     "output_type": "execute_result"
    }
   ],
   "source": [
    "# limits for LSTAT\n",
    "\n",
    "LSTAT_upper_limit, LSTAT_lower_limit = find_normal_boundaries(Boston, 'LSTAT', 3)\n",
    "LSTAT_upper_limit, LSTAT_lower_limit"
   ]
  },
  {
   "cell_type": "code",
   "execution_count": 136,
   "id": "56441de4",
   "metadata": {},
   "outputs": [
    {
     "data": {
      "text/plain": [
       "(29.41815887330972, -22.19111175868521)"
      ]
     },
     "execution_count": 136,
     "metadata": {},
     "output_type": "execute_result"
    }
   ],
   "source": [
    "# limits for CRIM\n",
    "\n",
    "CRIM_upper_limit, CRIM_lower_limit = find_normal_boundaries(Boston, 'CRIM', 3)\n",
    "CRIM_upper_limit, CRIM_lower_limit"
   ]
  },
  {
   "cell_type": "markdown",
   "id": "d51e5a21",
   "metadata": {},
   "source": [
    "Next, we can go ahead and replace extreme values by those boundaries. Replace extreme values by the limits in RM:"
   ]
  },
  {
   "cell_type": "code",
   "execution_count": 138,
   "id": "d50c8677",
   "metadata": {},
   "outputs": [],
   "source": [
    "# Now let's replace the outliers by the maximum and minimum limit\n",
    "\n",
    "Boston['RM'] = np.where(Boston['RM'] > RM_upper_limit, RM_upper_limit,\n",
    "                       np.where(Boston['RM'] < RM_lower_limit, RM_lower_limit, Boston['RM']))"
   ]
  },
  {
   "cell_type": "code",
   "execution_count": 139,
   "id": "910bc726",
   "metadata": {},
   "outputs": [],
   "source": [
    "# Now let's replace the outliers by the maximum and minimum limit\n",
    "\n",
    "Boston['LSTAT'] = np.where(Boston['LSTAT'] > LSTAT_upper_limit, LSTAT_upper_limit,\n",
    "                       np.where(Boston['LSTAT'] < LSTAT_lower_limit, LSTAT_lower_limit, Boston['LSTAT']))"
   ]
  },
  {
   "cell_type": "code",
   "execution_count": 140,
   "id": "8f4e43f4",
   "metadata": {},
   "outputs": [],
   "source": [
    "# Now let's replace the outliers by the maximum and minimum limit\n",
    "\n",
    "Boston['CRIM'] = np.where(Boston['CRIM'] > CRIM_upper_limit, CRIM_upper_limit,\n",
    "                       np.where(Boston['CRIM'] < CRIM_lower_limit, CRIM_lower_limit, Boston['CRIM']))"
   ]
  },
  {
   "cell_type": "markdown",
   "id": "3bd9ac71",
   "metadata": {},
   "source": [
    "To cap values only at the higher or lower end of the distribution, we can\n",
    "change the code in to Boston['RM'] = np.where(Boston['RM'] RM_upper_limit, Boston['RM']) to cap the right tail\n",
    "or Boston['RM'] = np.where(Boston['RM'] < RM_lower_limit, RM_lower_limit, Boston['RM']) to cap the left tail."
   ]
  },
  {
   "cell_type": "markdown",
   "id": "0a37e70b",
   "metadata": {},
   "source": [
    "## Cap Many Variables at once"
   ]
  },
  {
   "cell_type": "markdown",
   "id": "028e63e3",
   "metadata": {},
   "source": [
    "We can cap many variables at a time, utilizing the open source package, Feature-engine. To\n",
    "do this, we need to load the libraries and the data as we did in earlier steps. Next, we need to import Feature-engine. Set up a Feature-engine Winsorizer indicating which variables we want to\n",
    "winsorize and that we want to use the mean and standard deviation to find the\n",
    "limits"
   ]
  },
  {
   "cell_type": "code",
   "execution_count": 142,
   "id": "51343df8",
   "metadata": {},
   "outputs": [],
   "source": [
    "windsorizer = Winsorizer(capping_method = 'quantiles', tail = 'both', fold = 0.05, variables = ['RM', 'LSTAT', 'CRIM'])"
   ]
  },
  {
   "cell_type": "markdown",
   "id": "c90110c8",
   "metadata": {},
   "source": [
    "With Winsorizer from Feature-engine, we can replace the values by the\n",
    "mean and standard deviation setting the argument distribution to\n",
    "gaussian or the inter-quartile range proximity rule by setting the\n",
    "distribution to skewed. We can also replace outliers at both ends of the\n",
    "distributions or just the left or right tails, by setting the tail to both,\n",
    "left, or right. The fold argument works as the distance argument in\n",
    "the functions. Fit windsorizer to the data so that it learns the limits:"
   ]
  },
  {
   "cell_type": "code",
   "execution_count": 143,
   "id": "1c0ce816",
   "metadata": {},
   "outputs": [
    {
     "data": {
      "text/plain": [
       "Winsorizer(capping_method='quantiles', fold=0.05, tail='both',\n",
       "           variables=['RM', 'LSTAT', 'CRIM'])"
      ]
     },
     "execution_count": 143,
     "metadata": {},
     "output_type": "execute_result"
    }
   ],
   "source": [
    "windsorizer.fit(oston)"
   ]
  },
  {
   "cell_type": "markdown",
   "id": "6003de9d",
   "metadata": {},
   "source": [
    "Winsorize the RM, LSTAT, and CRIM variables:"
   ]
  },
  {
   "cell_type": "code",
   "execution_count": 144,
   "id": "812e4635",
   "metadata": {},
   "outputs": [],
   "source": [
    "boston_t = windsorizer.transform(Boston)"
   ]
  },
  {
   "cell_type": "markdown",
   "id": "b4405f96",
   "metadata": {},
   "source": [
    "We can inspect the lower boundaries learned by winsorizer like in the next step. Inspect the learned lower boundaries:"
   ]
  },
  {
   "cell_type": "code",
   "execution_count": 145,
   "id": "28a5d926",
   "metadata": {},
   "outputs": [
    {
     "data": {
      "text/plain": [
       "{'RM': 5.314, 'LSTAT': 3.7075, 'CRIM': 0.027909999999999997}"
      ]
     },
     "execution_count": 145,
     "metadata": {},
     "output_type": "execute_result"
    }
   ],
   "source": [
    "windsorizer.left_tail_caps_"
   ]
  },
  {
   "cell_type": "markdown",
   "id": "1935269d",
   "metadata": {},
   "source": [
    "And we can inspect the upper limits learned by winsorizer like in the next step. windsorizer.right_tail_caps_"
   ]
  },
  {
   "cell_type": "markdown",
   "id": "553d93c7",
   "metadata": {},
   "source": [
    "# Tukey’s box plot method"
   ]
  },
  {
   "cell_type": "markdown",
   "id": "5d26a4d7",
   "metadata": {},
   "source": [
    "The great advantage of Tukey’s box plot method is that the statistics (e.g. IQR, inner and outer fence) are robust to outliers, meaning to find one outlier is independent of all other outliers. Also, the statistics are easy to calculate. Furthermore, this method does not require a normal distribution of the data, which is often not guaranteed in real-life settings. If a distribution is highly skewed (usually found in real-life data), the Tukey method can be extended to the log-IQ method. Here, each value is transformed to its logarithm before calculating the inner and outer fences."
   ]
  },
  {
   "cell_type": "code",
   "execution_count": 147,
   "id": "78914723",
   "metadata": {},
   "outputs": [],
   "source": [
    "def tukeys_method(df, variable):\n",
    "    #Takes two parameters: dataframe & variable of interest as string\n",
    "    q1 = df[variable].quantile(0.25)\n",
    "    q3 = df[variable].quantile(0.75)\n",
    "    iqr = q3-q1\n",
    "    inner_fence = 1.5*iqr\n",
    "    outer_fence = 3*iqr\n",
    "    \n",
    "    #inner fence lower and upper end\n",
    "    inner_fence_le = q1-inner_fence\n",
    "    inner_fence_ue = q3+inner_fence\n",
    "    \n",
    "    #outer fence lower and upper end\n",
    "    outer_fence_le = q1-outer_fence\n",
    "    outer_fence_ue = q3+outer_fence\n",
    "    \n",
    "    outliers_prob = []\n",
    "    outliers_poss = []\n",
    "    for index, x in enumerate(df[variable]):\n",
    "        if x <= outer_fence_le or x >= outer_fence_ue:\n",
    "            outliers_prob.append(index)\n",
    "    for index, x in enumerate(df[variable]):\n",
    "        if x <= inner_fence_le or x >= inner_fence_ue:\n",
    "            outliers_poss.append(index)\n",
    "    return outliers_prob, outliers_poss"
   ]
  },
  {
   "cell_type": "code",
   "execution_count": 149,
   "id": "da71793b",
   "metadata": {},
   "outputs": [
    {
     "name": "stdout",
     "output_type": "stream",
     "text": [
      "[]\n",
      "[]\n"
     ]
    },
    {
     "name": "stderr",
     "output_type": "stream",
     "text": [
      "C:\\Users\\Nicholas\\anaconda3\\envs\\Fatalities_Prediction\\lib\\site-packages\\seaborn\\distributions.py:2619: FutureWarning: `distplot` is a deprecated function and will be removed in a future version. Please adapt your code to use either `displot` (a figure-level function with similar flexibility) or `histplot` (an axes-level function for histograms).\n",
      "  warnings.warn(msg, FutureWarning)\n"
     ]
    },
    {
     "data": {
      "image/png": "[encoded data removed]",
      "text/plain": [
       "<Figure size 432x288 with 1 Axes>"
      ]
     },
     "metadata": {
      "needs_background": "light"
     },
     "output_type": "display_data"
    }
   ],
   "source": [
    "#Transform 'CRIM' to log \n",
    "log_CRIM = np.log(Boston['CRIM'])\n",
    "Boston['CRIM_man'] = Boston['CRIM']+1\n",
    "log_CRIM = np.log(Boston['CRIM_man'])\n",
    "Boston['CRIM_log'] = log_CRIM\n",
    "\n",
    "#Plot\n",
    "sns.distplot(Boston['CRIM_log'])\n",
    "\n",
    "#Calculate probable and possible outliers using log-iq method\n",
    "probable_outliers_logiq, possible_outliers_logiq = tukeys_method(Boston, 'CRIM_log')\n",
    "print(probable_outliers_logiq)\n",
    "print(possible_outliers_logiq)"
   ]
  },
  {
   "cell_type": "code",
   "execution_count": 20,
   "id": "72701460",
   "metadata": {},
   "outputs": [],
   "source": [
    "probable_outliers_tm, possible_outliers_tm = tukeys_method(Boston, \"CRIM\")"
   ]
  },
  {
   "cell_type": "code",
   "execution_count": 21,
   "id": "2b94a862",
   "metadata": {},
   "outputs": [
    {
     "name": "stdout",
     "output_type": "stream",
     "text": [
      "[374, 375, 376, 378, 379, 380, 381, 384, 385, 386, 387, 398, 400, 403, 404, 405, 406, 410, 412, 413, 414, 415, 417, 418, 425, 427, 437, 440, 468, 477]\n"
     ]
    }
   ],
   "source": [
    "print(probable_outliers_tm)"
   ]
  },
  {
   "cell_type": "markdown",
   "id": "be4cdba3",
   "metadata": {},
   "source": [
    "## Transform 'CRIM' to log "
   ]
  },
  {
   "cell_type": "code",
   "execution_count": 22,
   "id": "a71b596e",
   "metadata": {},
   "outputs": [
    {
     "name": "stdout",
     "output_type": "stream",
     "text": [
      "[]\n",
      "[380, 404, 405, 410, 414, 418]\n"
     ]
    },
    {
     "data": {
      "image/png": "[encoded data removed]",
      "text/plain": [
       "<Figure size 432x288 with 1 Axes>"
      ]
     },
     "metadata": {
      "needs_background": "light"
     },
     "output_type": "display_data"
    }
   ],
   "source": [
    "log_CRIM = np.log(Boston['CRIM'])\n",
    "Boston['CRIM_man'] = Boston['CRIM']+1\n",
    "log_CRIM = np.log(Boston['CRIM_man'])\n",
    "Boston['CRIM_log'] = log_CRIM\n",
    "\n",
    "# Plot\n",
    "sns.boxplot(x = Boston['CRIM_log'])\n",
    "\n",
    "# Calculate probable and possible outliers using log-iq method\n",
    "probable_outliers_logiq, possible_outliers_logiq = tukeys_method(Boston, 'CRIM_log')\n",
    "print(probable_outliers_logiq)\n",
    "print(possible_outliers_logiq)"
   ]
  }
 ],
 "metadata": {
  "kernelspec": {
   "display_name": "Python 3 (ipykernel)",
   "language": "python",
   "name": "python3"
  },
  "language_info": {
   "codemirror_mode": {
    "name": "ipython",
    "version": 3
   },
   "file_extension": ".py",
   "mimetype": "text/x-python",
   "name": "python",
   "nbconvert_exporter": "python",
   "pygments_lexer": "ipython3",
   "version": "3.10.0"
  }
 },
 "nbformat": 4,
 "nbformat_minor": 5
}
